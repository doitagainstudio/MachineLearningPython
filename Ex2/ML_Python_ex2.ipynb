{
 "cells": [
  {
   "cell_type": "markdown",
   "id": "arabic-domestic",
   "metadata": {},
   "source": [
    "# **COURSERA MACHINE LEARNING** #\n",
    "## *Python Edition* ## \n",
    "## *Ex.2 - Logistic Regression* ##\n",
    "***A Jupyter Notebook by Cristiano Esposito ©2021***\n",
    "\n"
   ]
  },
  {
   "cell_type": "markdown",
   "id": "genuine-willow",
   "metadata": {},
   "source": [
    "In the next section we'll first import all the libraries needed for further use"
   ]
  },
  {
   "cell_type": "code",
   "execution_count": 1,
   "id": "scientific-anthropology",
   "metadata": {},
   "outputs": [],
   "source": [
    "# import libraries\n",
    "import matplotlib.pyplot as plt\n",
    "import numpy as np\n",
    "import scipy.optimize as opt"
   ]
  },
  {
   "cell_type": "markdown",
   "id": "delayed-humor",
   "metadata": {},
   "source": [
    "Now we define the main functions that will be used for later computations."
   ]
  },
  {
   "cell_type": "code",
   "execution_count": 2,
   "id": "descending-royalty",
   "metadata": {},
   "outputs": [],
   "source": [
    "# define plot visualization function\n",
    "def plotData(X, y):\n",
    "    pos = np.where(y == 1)\n",
    "    neg = np.where(y == 0)\n",
    "    plt.scatter(X[pos, 0], X[pos, 1], marker='o', c='b')\n",
    "    plt.scatter(X[neg, 0], X[neg, 1], marker='x', c='y')\n",
    "    plt.title(\"Exams Results\")\n",
    "    plt.xlabel(\"Exam 1 score\")\n",
    "    plt.ylabel(\"Exam 2 score\")\n",
    "    plt.legend(['Admitted', 'Not Admitted'])\n",
    "    plt.show()\n"
   ]
  },
  {
   "cell_type": "code",
   "execution_count": 3,
   "id": "homeless-toner",
   "metadata": {},
   "outputs": [],
   "source": [
    "# define function to plot decision boundary\n",
    "def plotDecisionBoundary(theta, X, y):\n",
    "    # compute values for decision boundary line\n",
    "    x_values = [np.min(X[:, 1]) - 2, np.max(X[:, 1]) + 2]\n",
    "    y_values = - (theta[0] + np.dot(theta[1], x_values)) / theta[2]\n",
    "    plt.plot(x_values, y_values, label='Decision Boundary', c='g')\n",
    "    pos = np.where(y == 1)\n",
    "    neg = np.where(y == 0)\n",
    "    plt.scatter(X[pos, 0], X[pos, 1], marker='o', c='b', label='Admitted')\n",
    "    plt.scatter(X[neg, 0], X[neg, 1], marker='x', c='y', label='Not admitted')\n",
    "    plt.title(\"Exams Results\")\n",
    "    plt.xlabel(\"Exam 1 score\")\n",
    "    plt.ylabel(\"Exam 2 score\")\n",
    "    plt.legend()\n",
    "    plt.show()"
   ]
  },
  {
   "cell_type": "code",
   "execution_count": 4,
   "id": "prescribed-operation",
   "metadata": {},
   "outputs": [],
   "source": [
    "# define Sigmoid function\n",
    "def sigmoid(z):\n",
    "    return 1 / (1 + np.exp(-z))"
   ]
  },
  {
   "cell_type": "code",
   "execution_count": 5,
   "id": "chubby-outdoors",
   "metadata": {},
   "outputs": [],
   "source": [
    "# define Cost Function and Gradient for Logistic Regression\n",
    "def lrcostFunction(theta, X, y):\n",
    "    m = len(y)\n",
    "    h = sigmoid(np.dot(X, theta))\n",
    "    J = 1 / m * np.sum(-y * np.log(h) - (1 - y) * np.log(1 - h))\n",
    "    return J"
   ]
  },
  {
   "cell_type": "code",
   "execution_count": 6,
   "id": "experimental-liquid",
   "metadata": {},
   "outputs": [],
   "source": [
    "# define Gradient for Logistic Regression\n",
    "def gradient(theta, X, y):\n",
    "    m = len(y)\n",
    "    return (1 / m) * np.dot(X.T, (sigmoid(np.dot(X, theta))) - y)"
   ]
  },
  {
   "cell_type": "code",
   "execution_count": 7,
   "id": "large-collection",
   "metadata": {},
   "outputs": [],
   "source": [
    "# define prediction function\n",
    "def predict(theta, X):\n",
    "    h = sigmoid(np.dot(X, theta))\n",
    "    p = (h >= 0.5)\n",
    "    return p"
   ]
  },
  {
   "cell_type": "markdown",
   "id": "extra-horse",
   "metadata": {},
   "source": [
    "We'll now load data from external dataset and put values in appropriate arrays."
   ]
  },
  {
   "cell_type": "code",
   "execution_count": 8,
   "id": "demographic-minnesota",
   "metadata": {},
   "outputs": [],
   "source": [
    "# import data from external file\n",
    "X1, X2, y = np.loadtxt('./data/ex2data1.txt', delimiter=',', unpack=True)\n",
    "X1 = X1.reshape(-1, 1)\n",
    "X2 = X2.reshape(-1, 1)\n",
    "y = y.reshape(-1, 1)\n",
    "X = np.concatenate((X1, X2), axis=1)"
   ]
  },
  {
   "cell_type": "markdown",
   "id": "israeli-february",
   "metadata": {},
   "source": [
    "Let's now show our training data on a scatter plot."
   ]
  },
  {
   "cell_type": "code",
   "execution_count": 9,
   "id": "engaging-comfort",
   "metadata": {},
   "outputs": [
    {
     "data": {
      "image/png": "[encoded data removed]",
      "text/plain": [
       "<Figure size 432x288 with 1 Axes>"
      ]
     },
     "metadata": {
      "needs_background": "light"
     },
     "output_type": "display_data"
    }
   ],
   "source": [
    "# show scatter plot\n",
    "plotData(X, y)"
   ]
  },
  {
   "cell_type": "markdown",
   "id": "nearby-narrative",
   "metadata": {},
   "source": [
    "Let's do some data wrangling on our training set"
   ]
  },
  {
   "cell_type": "code",
   "execution_count": 10,
   "id": "careful-future",
   "metadata": {},
   "outputs": [],
   "source": [
    "# define size of matrix X\n",
    "(m, n) = np.shape(X)\n",
    "\n",
    "# add intercept to training data\n",
    "X = np.concatenate((np.ones((m, 1)), X), axis=1)"
   ]
  },
  {
   "cell_type": "markdown",
   "id": "extreme-vegetation",
   "metadata": {},
   "source": [
    "Let's do some initial and test computation on the Cost Function for logistic regression, using an initial theta and a test theta."
   ]
  },
  {
   "cell_type": "code",
   "execution_count": 11,
   "id": "central-borough",
   "metadata": {},
   "outputs": [
    {
     "name": "stdout",
     "output_type": "stream",
     "text": [
      "Cost at initial theta (zeros):  0.6931471805599453\n",
      "Gradient at initial theta (zeros): \n",
      " [[ -0.1       ]\n",
      " [-12.00921659]\n",
      " [-11.26284221]]\n",
      "Cost at test theta:  0.21833019382659774\n",
      "Gradient at test theta: \n",
      " [[0.04290299]\n",
      " [2.56623412]\n",
      " [2.64679737]]\n"
     ]
    }
   ],
   "source": [
    "# Compute cost with initial theta (zeros)\n",
    "initial_theta = np.zeros(((n + 1), 1))\n",
    "cost = lrcostFunction(initial_theta, X, y)\n",
    "grad = gradient(initial_theta, X, y)\n",
    "print('Cost at initial theta (zeros): ', cost)\n",
    "print('Gradient at initial theta (zeros): \\n', grad)\n",
    "\n",
    "# Compute cost with non-zero test theta\n",
    "test_theta = [[-24], [0.2], [0.2]]\n",
    "cost = lrcostFunction(test_theta, X, y)\n",
    "grad = gradient(test_theta, X, y)\n",
    "print('Cost at test theta: ', cost)\n",
    "print('Gradient at test theta: \\n', grad)"
   ]
  },
  {
   "cell_type": "markdown",
   "id": "owned-found",
   "metadata": {},
   "source": [
    "Now we use an optimization function, provided by the Scipy library, to mimize cost finding the optimal theta values."
   ]
  },
  {
   "cell_type": "code",
   "execution_count": 12,
   "id": "retained-garbage",
   "metadata": {},
   "outputs": [
    {
     "name": "stdout",
     "output_type": "stream",
     "text": [
      "Optimal theta found: \n",
      " [-25.1613187    0.20623159   0.20147149]\n",
      "Cost for optimal theta is: \n",
      " 0.2034977015894742\n"
     ]
    }
   ],
   "source": [
    "# Compute optimal theta using optimization function fmin_tnc\n",
    "# where func is our cost function and fprime is the gradient function\n",
    "result = opt.fmin_tnc(func=lrcostFunction, fprime=gradient, x0=initial_theta, args=(X, y.flatten()))\n",
    "theta = result[0]\n",
    "print('Optimal theta found: \\n', theta)\n",
    "theta_opt = theta.reshape(-1, 1)\n",
    "print('Cost for optimal theta is: \\n', lrcostFunction(theta_opt, X, y))"
   ]
  },
  {
   "cell_type": "markdown",
   "id": "irish-photography",
   "metadata": {},
   "source": [
    "In the next section we'll predict admission probability for a student given two exam's results. We'll also compute the accurancy of our model."
   ]
  },
  {
   "cell_type": "code",
   "execution_count": 13,
   "id": "imported-boundary",
   "metadata": {},
   "outputs": [
    {
     "name": "stdout",
     "output_type": "stream",
     "text": [
      "Insert new exam scores to predict admission.\n"
     ]
    },
    {
     "name": "stdin",
     "output_type": "stream",
     "text": [
      "Exam1 score: \n",
      " 45\n",
      "Exam2 score: \n",
      " 85\n"
     ]
    },
    {
     "name": "stdout",
     "output_type": "stream",
     "text": [
      "For a student with score  45  on exam 1 and score  85  on exam 2, we predict an admission probability of  77.63 %\n",
      "Train Accurancy:  89.0\n"
     ]
    }
   ],
   "source": [
    "# Ask user to input new exam results to predict an admission\n",
    "print('Insert new exam scores to predict admission.')\n",
    "exam1_new = int(input('Exam1 score: \\n'))\n",
    "exam2_new = int(input('Exam2 score: \\n'))\n",
    "scores = np.array((1, exam1_new, exam2_new))\n",
    "prob = sigmoid(np.dot(scores, theta))\n",
    "print('For a student with score ', exam1_new, ' on exam 1 and score ', exam2_new, ' on exam 2, we predict an '\n",
    "                                                                                  'admission probability of ',\n",
    "      round(prob * 100, 2), '%')\n",
    "\n",
    "# Check for train accurancy\n",
    "p = predict(theta, X)\n",
    "print('Train Accurancy: ', np.mean((p == y.flatten()) * 100))"
   ]
  },
  {
   "cell_type": "markdown",
   "id": "august-audio",
   "metadata": {},
   "source": [
    "And now let's plot the decision boundary on top of our training set."
   ]
  },
  {
   "cell_type": "code",
   "execution_count": 14,
   "id": "included-samuel",
   "metadata": {},
   "outputs": [
    {
     "data": {
      "image/png": "[encoded data removed]",
      "text/plain": [
       "<Figure size 432x288 with 1 Axes>"
      ]
     },
     "metadata": {
      "needs_background": "light"
     },
     "output_type": "display_data"
    }
   ],
   "source": [
    "# Plot DecisionBoundary\n",
    "plotDecisionBoundary(theta, X[:, 1:3], y)"
   ]
  }
 ],
 "metadata": {
  "kernelspec": {
   "display_name": "Python 3",
   "language": "python",
   "name": "python3"
  },
  "language_info": {
   "codemirror_mode": {
    "name": "ipython",
    "version": 3
   },
   "file_extension": ".py",
   "mimetype": "text/x-python",
   "name": "python",
   "nbconvert_exporter": "python",
   "pygments_lexer": "ipython3",
   "version": "3.8.5"
  }
 },
 "nbformat": 4,
 "nbformat_minor": 5
}
