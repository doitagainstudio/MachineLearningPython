{
 "cells": [
  {
   "cell_type": "markdown",
   "id": "pending-parish",
   "metadata": {},
   "source": [
    "# **COURSERA MACHINE LEARNING** #\n",
    "## *Python Edition* ## \n",
    "## *Ex.2_part2 - Regularized Logistic Regression* ##\n",
    "***A Jupyter Notebook by Cristiano Esposito ©2021***\n",
    "\n",
    "<p> In this excercise we are going to load data as results coming from testing some microchips.This time the values are not linearly separated so we are first going to map new feature and then the Regularized Logistic Regression algorithm will be used to train the model. The model accurancy will be verified and then we are also going to plot the decision boundary."
   ]
  },
  {
   "cell_type": "markdown",
   "id": "vocational-bangkok",
   "metadata": {},
   "source": [
    "In the next section we'll first import all the libraries needed for further use"
   ]
  },
  {
   "cell_type": "code",
   "execution_count": 1,
   "id": "satisfied-gallery",
   "metadata": {},
   "outputs": [],
   "source": [
    "# import libraries\n",
    "import matplotlib.pyplot as plt\n",
    "import numpy as np\n",
    "import scipy.optimize as opt"
   ]
  },
  {
   "cell_type": "markdown",
   "id": "preceding-thanksgiving",
   "metadata": {},
   "source": [
    "Now we define the main functions that will be used for later computations."
   ]
  },
  {
   "cell_type": "code",
   "execution_count": 2,
   "id": "subject-federal",
   "metadata": {},
   "outputs": [],
   "source": [
    "# define plot visualization function\n",
    "def plotData(X, y):\n",
    "    pos = np.where(y == 1)\n",
    "    neg = np.where(y == 0)\n",
    "    p1 = plt.scatter(X[pos, 0], X[pos, 1], marker='x', c='b', label='y = 1')\n",
    "    p2 = plt.scatter(X[neg, 0], X[neg, 1], marker='o', c='y', label='y = 0')\n",
    "    plt.xlabel('Microchip Test 1')\n",
    "    plt.ylabel('Microchip Test 2')\n",
    "    return plt, p1, p2"
   ]
  },
  {
   "cell_type": "code",
   "execution_count": 3,
   "id": "compliant-bottom",
   "metadata": {},
   "outputs": [],
   "source": [
    "# define function to plot decision boundary\n",
    "def plotDecisionBoundary(theta, X, y):\n",
    "    # compute values for decision boundary line\n",
    "    plt, p1, p2 = plotData(X[:, 1:3], y)\n",
    "    if X.shape[1] <= 3:\n",
    "        x_values = [np.min(X[:, 1]) - 2, np.max(X[:, 1]) + 2]\n",
    "        y_values = - (theta[0] + np.dot(theta[1], x_values)) / theta[2]\n",
    "        p3 = plt.plot(x_values, y_values, label='Decision Boundary', c='g')\n",
    "        plt.legend()\n",
    "        plt.show()\n",
    "    else:\n",
    "        # Here is the grid range\n",
    "        u = np.linspace(-1, 1.5, 50)\n",
    "        v = np.linspace(-1, 1.5, 50)\n",
    "        z = np.zeros((len(u), len(v)))\n",
    "        # Evaluate z = theta*x over the grid\n",
    "        for i in range(len(u)):\n",
    "            for j in range(len(v)):\n",
    "                z[i, j] = np.dot(mapFeature(np.array([u[i]]), np.array([v[j]])), theta)\n",
    "        z = np.transpose(z)  # important to transpose z before calling contour\n",
    "        # Plot z = 0\n",
    "        # Notice you need to specify the level 0\n",
    "        # we get collections[0] so that we can display a legend properly\n",
    "        p3 = plt.contour(u, v, z, levels=[0]).collections[0]\n",
    "        plt.legend((p1, p2, p3), ('y = 1', 'y = 0', 'Decision Boundary'))\n",
    "        plt.show()"
   ]
  },
  {
   "cell_type": "code",
   "execution_count": 4,
   "id": "complex-jenny",
   "metadata": {},
   "outputs": [],
   "source": [
    "# define function to maps the two input features to quadratic features\n",
    "# to be used in regularized cost function (6th grade)\n",
    "def mapFeature(X1, X2):\n",
    "    X1.shape = (X1.size, 1)\n",
    "    X2.shape = (X2.size, 1)\n",
    "    degree = 6\n",
    "    out = np.ones(shape=(X1[:, 0].size, 1))\n",
    "    for i in range(1, degree + 1):\n",
    "        for j in range(i + 1):\n",
    "            r = (X1 ** (i - j)) * (X2 ** j)\n",
    "            out = np.append(out, r, axis=1)\n",
    "    return out"
   ]
  },
  {
   "cell_type": "code",
   "execution_count": 5,
   "id": "sound-defendant",
   "metadata": {},
   "outputs": [],
   "source": [
    "# define Sigmoid function\n",
    "def sigmoid(z):\n",
    "    return 1 / (1 + np.exp(-z))"
   ]
  },
  {
   "cell_type": "code",
   "execution_count": 6,
   "id": "orange-diabetes",
   "metadata": {},
   "outputs": [],
   "source": [
    "# define Regularized Cost Function for Logistic Regression \n",
    "def lrcostFunctionReg(theta, X, y, lambda_t):\n",
    "    m = len(y)\n",
    "    h = sigmoid(np.dot(X, theta))\n",
    "    reg_term = (lambda_t / (2 * m)) * (np.dot(theta[1:].T, theta[1:]))\n",
    "    J = 1 / m * np.sum(-y * np.log(h) - (1 - y) * np.log(1 - h)) + reg_term\n",
    "    return J"
   ]
  },
  {
   "cell_type": "code",
   "execution_count": 7,
   "id": "sublime-involvement",
   "metadata": {},
   "outputs": [],
   "source": [
    "# define Gradient for Logistic Regression\n",
    "def gradient(theta, X, y, lambda_t):\n",
    "    m = len(y)\n",
    "    grad = (1 / m) * np.dot(X.T, (sigmoid(np.dot(X, theta))) - y)\n",
    "    grad[1:] = grad[1:] + (lambda_t / m) * theta[1:]\n",
    "    return grad"
   ]
  },
  {
   "cell_type": "code",
   "execution_count": 8,
   "id": "particular-ethiopia",
   "metadata": {},
   "outputs": [],
   "source": [
    "# define prediction function\n",
    "def predict(theta, X):\n",
    "    h = sigmoid(np.dot(X, theta))\n",
    "    p = (h >= 0.5)\n",
    "    return p"
   ]
  },
  {
   "cell_type": "markdown",
   "id": "informal-smith",
   "metadata": {},
   "source": [
    "We'll now load data from external dataset and put values in appropriate arrays."
   ]
  },
  {
   "cell_type": "code",
   "execution_count": 9,
   "id": "plastic-while",
   "metadata": {},
   "outputs": [],
   "source": [
    "# import data from external file\n",
    "X1, X2, y = np.loadtxt('./data/ex2data2.txt', delimiter=',', unpack=True)\n",
    "X1 = X1.reshape(-1, 1)\n",
    "X2 = X2.reshape(-1, 1)\n",
    "y = y.reshape(-1, 1)\n",
    "X = np.concatenate((X1, X2), axis=1)"
   ]
  },
  {
   "cell_type": "markdown",
   "id": "accepting-twenty",
   "metadata": {},
   "source": [
    "Let's now show our training data on a scatter plot."
   ]
  },
  {
   "cell_type": "code",
   "execution_count": 10,
   "id": "daily-inflation",
   "metadata": {},
   "outputs": [
    {
     "data": {
      "image/png": "[encoded data removed]",
      "text/plain": [
       "<Figure size 432x288 with 1 Axes>"
      ]
     },
     "metadata": {
      "needs_background": "light"
     },
     "output_type": "display_data"
    }
   ],
   "source": [
    "# show scatter plot\n",
    "plotData(X, y)\n",
    "plt.legend()\n",
    "plt.show()"
   ]
  },
  {
   "cell_type": "markdown",
   "id": "robust-atmosphere",
   "metadata": {},
   "source": [
    "Since our training set is not linearly separated, we are gonna use a map feature function to increase variable in our dataset for proper fitting. There is no need to add intercept values to our set."
   ]
  },
  {
   "cell_type": "code",
   "execution_count": 11,
   "id": "accessory-enforcement",
   "metadata": {},
   "outputs": [],
   "source": [
    "X = mapFeature(X[:, 0], X[:, 1])\n",
    "# define size of matrix X\n",
    "(m, n) = np.shape(X)"
   ]
  },
  {
   "cell_type": "markdown",
   "id": "pregnant-healthcare",
   "metadata": {},
   "source": [
    "Let's do some initial and test computation on the Cost Function for logistic regression, using an initial theta and a test theta. We are going to use the regularized function so also a parameter Lambda will be set."
   ]
  },
  {
   "cell_type": "code",
   "execution_count": 12,
   "id": "trying-blackberry",
   "metadata": {},
   "outputs": [
    {
     "name": "stdout",
     "output_type": "stream",
     "text": [
      "Cost at initial theta (zeros):  [[0.69314718]]\n",
      "Gradient at initial theta (zeros) - first five values only: \n",
      " [[8.47457627e-03]\n",
      " [1.87880932e-02]\n",
      " [7.77711864e-05]\n",
      " [5.03446395e-02]\n",
      " [1.15013308e-02]]\n",
      "Cost at test theta:  [[3.16450933]]\n",
      "Gradient at test theta: \n",
      " [[0.34604507]\n",
      " [0.16135192]\n",
      " [0.19479576]\n",
      " [0.22686278]\n",
      " [0.09218568]]\n"
     ]
    }
   ],
   "source": [
    "# Compute cost with initial theta (zeros)\n",
    "initial_theta = np.zeros((n, 1))\n",
    "# Set regularization parameter Lambda\n",
    "lmbda = 1\n",
    "cost = lrcostFunctionReg(initial_theta, X, y, lmbda)\n",
    "grad = gradient(initial_theta, X, y, lmbda)\n",
    "print('Cost at initial theta (zeros): ', cost)\n",
    "print('Gradient at initial theta (zeros) - first five values only: \\n', grad[0:5])\n",
    "\n",
    "# Compute cost with non-zero test theta and lambda = 10\n",
    "test_theta = np.ones((n, 1))\n",
    "cost = lrcostFunctionReg(test_theta, X, y, 10)\n",
    "grad = gradient(test_theta, X, y, 10)\n",
    "print('Cost at test theta: ', cost)\n",
    "print('Gradient at test theta: \\n', grad[0:5])"
   ]
  },
  {
   "cell_type": "markdown",
   "id": "finite-dylan",
   "metadata": {},
   "source": [
    "Now we use an optimization function, provided by the Scipy library, to mimize cost finding the optimal theta values."
   ]
  },
  {
   "cell_type": "code",
   "execution_count": 13,
   "id": "gorgeous-pendant",
   "metadata": {},
   "outputs": [
    {
     "name": "stdout",
     "output_type": "stream",
     "text": [
      "Optimal theta found: \n",
      " [ 1.27271025  0.62529964  1.18111686 -2.01987399 -0.91743189 -1.43166927\n",
      "  0.12393228 -0.36553118 -0.35725405 -0.17516292 -1.45817009 -0.05098418\n",
      " -0.61558558 -0.27469165 -1.19271299 -0.24217841 -0.20603303 -0.04466177\n",
      " -0.27778947 -0.29539513 -0.45645982 -1.04319154  0.02779373 -0.29244865\n",
      "  0.01555759 -0.32742404 -0.14389149 -0.92467488]\n",
      "Cost for optimal theta is: \n",
      " [[0.52900273]]  with Lambda =  1\n"
     ]
    }
   ],
   "source": [
    "# Compute optimal theta using optimization function fmin_tnc\n",
    "# where func is our cost function and fprime is the gradient function\n",
    "result = opt.fmin_tnc(func=lrcostFunctionReg, fprime=gradient, x0=initial_theta, args=(X, y.flatten(), lmbda))\n",
    "theta = result[0]\n",
    "print('Optimal theta found: \\n', theta)\n",
    "theta_opt = theta.reshape(-1, 1)\n",
    "print('Cost for optimal theta is: \\n', lrcostFunctionReg(theta_opt, X, y, lmbda), ' with Lambda = ', lmbda)\n"
   ]
  },
  {
   "cell_type": "markdown",
   "id": "outer-borough",
   "metadata": {},
   "source": [
    "In the next section we're going to use our model to make some predictions and verify the accurancy."
   ]
  },
  {
   "cell_type": "code",
   "execution_count": 14,
   "id": "homeless-stocks",
   "metadata": {},
   "outputs": [
    {
     "name": "stdout",
     "output_type": "stream",
     "text": [
      "Train Accurancy:  83.05084745762711  with Lambda =  1\n"
     ]
    }
   ],
   "source": [
    "# Check for train accurancy\n",
    "p = predict(theta, X)\n",
    "print('Train Accurancy: ', np.mean((p == y.flatten()) * 100), ' with Lambda = ', lmbda)\n"
   ]
  },
  {
   "cell_type": "markdown",
   "id": "synthetic-sellers",
   "metadata": {},
   "source": [
    "And now let's plot the decision boundary on top of our training set."
   ]
  },
  {
   "cell_type": "code",
   "execution_count": 15,
   "id": "sound-consequence",
   "metadata": {},
   "outputs": [
    {
     "data": {
      "image/png": "[encoded data removed]",
      "text/plain": [
       "<Figure size 432x288 with 1 Axes>"
      ]
     },
     "metadata": {
      "needs_background": "light"
     },
     "output_type": "display_data"
    }
   ],
   "source": [
    "# Plot DecisionBoundary\n",
    "plotDecisionBoundary(theta, X, y)"
   ]
  }
 ],
 "metadata": {
  "kernelspec": {
   "display_name": "Python 3",
   "language": "python",
   "name": "python3"
  },
  "language_info": {
   "codemirror_mode": {
    "name": "ipython",
    "version": 3
   },
   "file_extension": ".py",
   "mimetype": "text/x-python",
   "name": "python",
   "nbconvert_exporter": "python",
   "pygments_lexer": "ipython3",
   "version": "3.8.5"
  }
 },
 "nbformat": 4,
 "nbformat_minor": 5
}
