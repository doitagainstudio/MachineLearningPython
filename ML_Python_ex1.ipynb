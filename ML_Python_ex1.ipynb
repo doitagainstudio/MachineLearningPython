{
 "cells": [
  {
   "cell_type": "markdown",
   "id": "polished-sampling",
   "metadata": {},
   "source": [
    "# **COURSERA MACHINE LEARNING** #\n",
    "## *Python Edition* ## \n",
    "## *Ex.1 - Linear Regression* ##\n",
    "***A Jupyter Notebook by Cristiano Esposito ©2021***\n",
    "\n"
   ]
  },
  {
   "cell_type": "code",
   "execution_count": null,
   "id": "accessible-corporation",
   "metadata": {},
   "outputs": [],
   "source": [
    "# Import libraries needed\n",
    "import numpy as np\n",
    "import pandas as pd\n",
    "import matplotlib.pyplot as plt\n",
    "%matplotlib inline"
   ]
  },
  {
   "cell_type": "code",
   "execution_count": null,
   "id": "polyphonic-obligation",
   "metadata": {},
   "outputs": [],
   "source": [
    "# Define function to normalize data in the array\n",
    "def normalize(X):\n",
    "    mu = X.mean()  # media\n",
    "    sigma = X.std()  # deviazione standard\n",
    "    X_norm = (X - X.mean()) / X.std()\n",
    "    return mu, sigma, X_norm"
   ]
  },
  {
   "cell_type": "code",
   "execution_count": null,
   "id": "hindu-guitar",
   "metadata": {},
   "outputs": [],
   "source": [
    "# Define the Cost Function\n",
    "def costFunction(X, y, theta):\n",
    "    m = len(y)\n",
    "    predictions = X @ theta\n",
    "    sqrErrors = np.power((predictions - y), 2)\n",
    "    J = (1 / (2 * m)) * np.sum(sqrErrors)\n",
    "    return J"
   ]
  },
  {
   "cell_type": "code",
   "execution_count": null,
   "id": "pleasant-procedure",
   "metadata": {},
   "outputs": [],
   "source": [
    "# Define the Gradient Descent\n",
    "def gradientDescent(X, y, theta, alpha, num_iters):\n",
    "    m = len(y)\n",
    "    J_history = []\n",
    "    for i in range(num_iters):\n",
    "        predictions = X @ theta\n",
    "        theta = theta - ((alpha / m) * (X.T @ (predictions - y)))\n",
    "        J = costFunction(X, y, theta)\n",
    "        J_history.append(J)\n",
    "    return theta, J_history"
   ]
  },
  {
   "cell_type": "code",
   "execution_count": null,
   "id": "important-martin",
   "metadata": {},
   "outputs": [],
   "source": [
    "# Define the Normal Equation\n",
    "def normalEqn(X, y):\n",
    "    theta = ((np.linalg.inv(X.T @ X)) @ X.T) @ y\n",
    "    return theta"
   ]
  },
  {
   "cell_type": "code",
   "execution_count": null,
   "id": "progressive-drinking",
   "metadata": {},
   "outputs": [],
   "source": [
    "# Load data from external file \n",
    "df = pd.read_csv('./data/ex1data2.txt', header=None)\n",
    "X_start = df.iloc[:, 0:2]\n",
    "y = df.iloc[:, [2]]"
   ]
  },
  {
   "cell_type": "code",
   "execution_count": null,
   "id": "brief-arrest",
   "metadata": {},
   "outputs": [],
   "source": [
    "# Data wrangling and preparation\n",
    "mu, sigma, X_norm = normalize(X_start)\n",
    "X_norm.insert(0, '', 1)\n",
    "X = X_norm.values\n",
    "y = y.values\n",
    "n = X.shape[1]\n",
    "theta = np.zeros((n, 1))\n",
    "print('Initial cost: \\n', costFunction(X, y, theta), '\\n')"
   ]
  },
  {
   "cell_type": "code",
   "execution_count": null,
   "id": "logical-violation",
   "metadata": {},
   "outputs": [],
   "source": [
    "# Ask the user to input datas for Gradient Discent\n",
    "alpha = float(input('Input learning rate alpha: \\n'))\n",
    "num_iters = int(input('Input number of iterations: \\n'))\n",
    "theta, J_history = gradientDescent(X, y, theta, alpha, num_iters)\n",
    "print('Theta parameters using Gradient Descent: \\n', theta, '\\n')"
   ]
  },
  {
   "cell_type": "code",
   "execution_count": null,
   "id": "lonely-group",
   "metadata": {},
   "outputs": [],
   "source": [
    "# Plot cost function related to number of iterations\n",
    "plt.plot(list(range(num_iters)), J_history, '-r')\n",
    "plt.show()\n"
   ]
  },
  {
   "cell_type": "code",
   "execution_count": null,
   "id": "protecting-louisville",
   "metadata": {},
   "outputs": [],
   "source": [
    "# Compute theta using Normal Equations:\n",
    "# initial datas do NOT need to be normalized\n",
    "X_nEqn = X_start\n",
    "X_nEqn.insert(0, '', 1)\n",
    "X_nEqn = X_nEqn.values\n",
    "theta_nEqn = normalEqn(X_nEqn, y)\n",
    "print('Theta parameters using Normal Equation: \\n', theta_nEqn, '\\n')"
   ]
  },
  {
   "cell_type": "code",
   "execution_count": null,
   "id": "enclosed-reunion",
   "metadata": {},
   "outputs": [],
   "source": [
    "# Ask user to input new variables to compute a prediction\n",
    "# using the defined model\n",
    "size = float(input('Input house size: \\n'))\n",
    "nRooms = int(input('Input number of rooms: \\n'))\n",
    "X_predict = np.array((size, nRooms))\n",
    "# Normalize variables using mu and sigma from previous normalization\n",
    "X_predictNorm = np.divide((np.subtract(X_predict, mu)), sigma)\n",
    "X_predictNorm = X_predictNorm.values\n",
    "# Insert intercept into theta\n",
    "X_predictNorm = np.insert(X_predictNorm, 0, 1)  # for Gradient Descent\n",
    "X_pred = np.insert(X_predict, 0, 1)  # for Normal Equation"
   ]
  },
  {
   "cell_type": "code",
   "execution_count": null,
   "id": "spread-progressive",
   "metadata": {},
   "outputs": [],
   "source": [
    "# Compute and show predicted prices\n",
    "y_predictGrad = np.round(X_predictNorm @ theta, 2)\n",
    "for item in y_predictGrad:\n",
    "    print(\"Price using Gradient Descent: \\n\", item)"
   ]
  },
  {
   "cell_type": "code",
   "execution_count": null,
   "id": "average-remedy",
   "metadata": {},
   "outputs": [],
   "source": [
    "y_predictNormEqn = np.round(X_pred @ theta_nEqn, 2)\n",
    "for item in y_predictNormEqn:\n",
    "    print(\"Price using Normal Equation: \\n\", item)"
   ]
  },
  {
   "cell_type": "code",
   "execution_count": null,
   "id": "outstanding-environment",
   "metadata": {},
   "outputs": [],
   "source": []
  }
 ],
 "metadata": {
  "kernelspec": {
   "display_name": "Python 3",
   "language": "python",
   "name": "python3"
  },
  "language_info": {
   "codemirror_mode": {
    "name": "ipython",
    "version": 3
   },
   "file_extension": ".py",
   "mimetype": "text/x-python",
   "name": "python",
   "nbconvert_exporter": "python",
   "pygments_lexer": "ipython3",
   "version": "3.8.5"
  }
 },
 "nbformat": 4,
 "nbformat_minor": 5
}
